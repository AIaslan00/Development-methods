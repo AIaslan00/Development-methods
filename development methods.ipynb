{
 "cells": [
  {
   "cell_type": "code",
   "execution_count": 1,
   "id": "0aaf666e",
   "metadata": {
    "execution": {
     "iopub.execute_input": "2023-10-15T19:54:46.693863Z",
     "iopub.status.busy": "2023-10-15T19:54:46.692832Z",
     "iopub.status.idle": "2023-10-15T19:54:49.963451Z",
     "shell.execute_reply": "2023-10-15T19:54:49.962097Z"
    },
    "papermill": {
     "duration": 3.284061,
     "end_time": "2023-10-15T19:54:49.967522",
     "exception": false,
     "start_time": "2023-10-15T19:54:46.683461",
     "status": "completed"
    },
    "tags": []
   },
   "outputs": [
    {
     "data": {
      "text/html": [
       "<style type='text/css'>\n",
       ".datatable table.frame { margin-bottom: 0; }\n",
       ".datatable table.frame thead { border-bottom: none; }\n",
       ".datatable table.frame tr.coltypes td {  color: #FFFFFF;  line-height: 6px;  padding: 0 0.5em;}\n",
       ".datatable .bool    { background: #DDDD99; }\n",
       ".datatable .object  { background: #565656; }\n",
       ".datatable .int     { background: #5D9E5D; }\n",
       ".datatable .float   { background: #4040CC; }\n",
       ".datatable .str     { background: #CC4040; }\n",
       ".datatable .time    { background: #40CC40; }\n",
       ".datatable .row_index {  background: var(--jp-border-color3);  border-right: 1px solid var(--jp-border-color0);  color: var(--jp-ui-font-color3);  font-size: 9px;}\n",
       ".datatable .frame tbody td { text-align: left; }\n",
       ".datatable .frame tr.coltypes .row_index {  background: var(--jp-border-color0);}\n",
       ".datatable th:nth-child(2) { padding-left: 12px; }\n",
       ".datatable .hellipsis {  color: var(--jp-cell-editor-border-color);}\n",
       ".datatable .vellipsis {  background: var(--jp-layout-color0);  color: var(--jp-cell-editor-border-color);}\n",
       ".datatable .na {  color: var(--jp-cell-editor-border-color);  font-size: 80%;}\n",
       ".datatable .sp {  opacity: 0.25;}\n",
       ".datatable .footer { font-size: 9px; }\n",
       ".datatable .frame_dimensions {  background: var(--jp-border-color3);  border-top: 1px solid var(--jp-border-color0);  color: var(--jp-ui-font-color3);  display: inline-block;  opacity: 0.6;  padding: 1px 10px 1px 5px;}\n",
       "</style>\n"
      ],
      "text/plain": [
       "<IPython.core.display.HTML object>"
      ]
     },
     "metadata": {},
     "output_type": "display_data"
    }
   ],
   "source": [
    "import warnings\n",
    "import numpy as np\n",
    "import pandas as pd\n",
    "import seaborn as sns\n",
    "from matplotlib import pyplot as plt\n",
    "from sklearn.ensemble import RandomForestClassifier, GradientBoostingClassifier, VotingClassifier\n",
    "from sklearn.model_selection import GridSearchCV, cross_validate, RandomizedSearchCV, validation_curve\n",
    "\n",
    "from xgboost import XGBClassifier\n",
    "from lightgbm import LGBMClassifier\n",
    "from catboost import CatBoostClassifier"
   ]
  },
  {
   "cell_type": "code",
   "execution_count": 2,
   "id": "118fe107",
   "metadata": {
    "execution": {
     "iopub.execute_input": "2023-10-15T19:54:49.981751Z",
     "iopub.status.busy": "2023-10-15T19:54:49.981334Z",
     "iopub.status.idle": "2023-10-15T19:54:50.026835Z",
     "shell.execute_reply": "2023-10-15T19:54:50.025569Z"
    },
    "papermill": {
     "duration": 0.055883,
     "end_time": "2023-10-15T19:54:50.029866",
     "exception": false,
     "start_time": "2023-10-15T19:54:49.973983",
     "status": "completed"
    },
    "tags": []
   },
   "outputs": [
    {
     "data": {
      "text/html": [
       "<div>\n",
       "<style scoped>\n",
       "    .dataframe tbody tr th:only-of-type {\n",
       "        vertical-align: middle;\n",
       "    }\n",
       "\n",
       "    .dataframe tbody tr th {\n",
       "        vertical-align: top;\n",
       "    }\n",
       "\n",
       "    .dataframe thead th {\n",
       "        text-align: right;\n",
       "    }\n",
       "</style>\n",
       "<table border=\"1\" class=\"dataframe\">\n",
       "  <thead>\n",
       "    <tr style=\"text-align: right;\">\n",
       "      <th></th>\n",
       "      <th>Pregnancies</th>\n",
       "      <th>Glucose</th>\n",
       "      <th>BloodPressure</th>\n",
       "      <th>SkinThickness</th>\n",
       "      <th>Insulin</th>\n",
       "      <th>BMI</th>\n",
       "      <th>DiabetesPedigreeFunction</th>\n",
       "      <th>Age</th>\n",
       "      <th>Outcome</th>\n",
       "    </tr>\n",
       "  </thead>\n",
       "  <tbody>\n",
       "    <tr>\n",
       "      <th>0</th>\n",
       "      <td>6</td>\n",
       "      <td>148</td>\n",
       "      <td>72</td>\n",
       "      <td>35</td>\n",
       "      <td>0</td>\n",
       "      <td>33.6</td>\n",
       "      <td>0.627</td>\n",
       "      <td>50</td>\n",
       "      <td>1</td>\n",
       "    </tr>\n",
       "    <tr>\n",
       "      <th>1</th>\n",
       "      <td>1</td>\n",
       "      <td>85</td>\n",
       "      <td>66</td>\n",
       "      <td>29</td>\n",
       "      <td>0</td>\n",
       "      <td>26.6</td>\n",
       "      <td>0.351</td>\n",
       "      <td>31</td>\n",
       "      <td>0</td>\n",
       "    </tr>\n",
       "    <tr>\n",
       "      <th>2</th>\n",
       "      <td>8</td>\n",
       "      <td>183</td>\n",
       "      <td>64</td>\n",
       "      <td>0</td>\n",
       "      <td>0</td>\n",
       "      <td>23.3</td>\n",
       "      <td>0.672</td>\n",
       "      <td>32</td>\n",
       "      <td>1</td>\n",
       "    </tr>\n",
       "    <tr>\n",
       "      <th>3</th>\n",
       "      <td>1</td>\n",
       "      <td>89</td>\n",
       "      <td>66</td>\n",
       "      <td>23</td>\n",
       "      <td>94</td>\n",
       "      <td>28.1</td>\n",
       "      <td>0.167</td>\n",
       "      <td>21</td>\n",
       "      <td>0</td>\n",
       "    </tr>\n",
       "    <tr>\n",
       "      <th>4</th>\n",
       "      <td>0</td>\n",
       "      <td>137</td>\n",
       "      <td>40</td>\n",
       "      <td>35</td>\n",
       "      <td>168</td>\n",
       "      <td>43.1</td>\n",
       "      <td>2.288</td>\n",
       "      <td>33</td>\n",
       "      <td>1</td>\n",
       "    </tr>\n",
       "  </tbody>\n",
       "</table>\n",
       "</div>"
      ],
      "text/plain": [
       "   Pregnancies  Glucose  BloodPressure  SkinThickness  Insulin   BMI  \\\n",
       "0            6      148             72             35        0  33.6   \n",
       "1            1       85             66             29        0  26.6   \n",
       "2            8      183             64              0        0  23.3   \n",
       "3            1       89             66             23       94  28.1   \n",
       "4            0      137             40             35      168  43.1   \n",
       "\n",
       "   DiabetesPedigreeFunction  Age  Outcome  \n",
       "0                     0.627   50        1  \n",
       "1                     0.351   31        0  \n",
       "2                     0.672   32        1  \n",
       "3                     0.167   21        0  \n",
       "4                     2.288   33        1  "
      ]
     },
     "execution_count": 2,
     "metadata": {},
     "output_type": "execute_result"
    }
   ],
   "source": [
    "df=pd.read_csv(\"/kaggle/input/diabets/machine_learning/datasets/diabetes.csv\")\n",
    "df.head()"
   ]
  },
  {
   "cell_type": "code",
   "execution_count": 3,
   "id": "9777904c",
   "metadata": {
    "execution": {
     "iopub.execute_input": "2023-10-15T19:54:50.044492Z",
     "iopub.status.busy": "2023-10-15T19:54:50.044128Z",
     "iopub.status.idle": "2023-10-15T19:54:50.058946Z",
     "shell.execute_reply": "2023-10-15T19:54:50.057681Z"
    },
    "papermill": {
     "duration": 0.025179,
     "end_time": "2023-10-15T19:54:50.061497",
     "exception": false,
     "start_time": "2023-10-15T19:54:50.036318",
     "status": "completed"
    },
    "tags": []
   },
   "outputs": [],
   "source": [
    "y=df[\"Outcome\"]\n",
    "X=df.drop(\"Outcome\",axis=1)"
   ]
  },
  {
   "cell_type": "markdown",
   "id": "2d0e4489",
   "metadata": {
    "papermill": {
     "duration": 0.005809,
     "end_time": "2023-10-15T19:54:50.073597",
     "exception": false,
     "start_time": "2023-10-15T19:54:50.067788",
     "status": "completed"
    },
    "tags": []
   },
   "source": [
    "# Random Forests"
   ]
  },
  {
   "cell_type": "code",
   "execution_count": 4,
   "id": "d1c1e1af",
   "metadata": {
    "execution": {
     "iopub.execute_input": "2023-10-15T19:54:50.089753Z",
     "iopub.status.busy": "2023-10-15T19:54:50.089359Z",
     "iopub.status.idle": "2023-10-15T19:59:03.960804Z",
     "shell.execute_reply": "2023-10-15T19:59:03.959481Z"
    },
    "papermill": {
     "duration": 253.894233,
     "end_time": "2023-10-15T19:59:03.975790",
     "exception": false,
     "start_time": "2023-10-15T19:54:50.081557",
     "status": "completed"
    },
    "tags": []
   },
   "outputs": [
    {
     "name": "stdout",
     "output_type": "stream",
     "text": [
      "Fitting 5 folds for each of 180 candidates, totalling 900 fits\n"
     ]
    },
    {
     "data": {
      "text/plain": [
       "0.8271054131054132"
      ]
     },
     "execution_count": 4,
     "metadata": {},
     "output_type": "execute_result"
    }
   ],
   "source": [
    "rf_model = RandomForestClassifier(random_state=17)\n",
    "rf_model.get_params()\n",
    "\n",
    "cv_results = cross_validate(rf_model, X, y, cv=10, scoring=[\"accuracy\", \"f1\", \"roc_auc\"])\n",
    "cv_results['test_accuracy'].mean()\n",
    "cv_results['test_f1'].mean()\n",
    "cv_results['test_roc_auc'].mean()\n",
    "\n",
    "\n",
    "rf_params = {\"max_depth\": [5, 8, None],\n",
    "             \"max_features\": [3, 5, 7, \"auto\"],\n",
    "             \"min_samples_split\": [2, 5, 8, 15, 20],\n",
    "             \"n_estimators\": [100, 200, 500]}\n",
    "\n",
    "\n",
    "rf_best_grid = GridSearchCV(rf_model, rf_params, cv=5, n_jobs=-1, verbose=True).fit(X, y)\n",
    "\n",
    "rf_best_grid.best_params_\n",
    "\n",
    "rf_final = rf_model.set_params(**rf_best_grid.best_params_, random_state=17).fit(X, y)\n",
    "\n",
    "cv_results = cross_validate(rf_final, X, y, cv=10, scoring=[\"accuracy\", \"f1\", \"roc_auc\"])\n",
    "cv_results['test_accuracy'].mean()\n",
    "cv_results['test_f1'].mean()\n",
    "cv_results['test_roc_auc'].mean()"
   ]
  },
  {
   "cell_type": "code",
   "execution_count": 5,
   "id": "5572229e",
   "metadata": {
    "execution": {
     "iopub.execute_input": "2023-10-15T19:59:03.992608Z",
     "iopub.status.busy": "2023-10-15T19:59:03.991171Z",
     "iopub.status.idle": "2023-10-15T19:59:04.527699Z",
     "shell.execute_reply": "2023-10-15T19:59:04.526295Z"
    },
    "papermill": {
     "duration": 0.548079,
     "end_time": "2023-10-15T19:59:04.530591",
     "exception": false,
     "start_time": "2023-10-15T19:59:03.982512",
     "status": "completed"
    },
    "tags": []
   },
   "outputs": [
    {
     "data": {
      "image/png": "[encoded data removed]",
      "text/plain": [
       "<Figure size 720x720 with 1 Axes>"
      ]
     },
     "metadata": {
      "needs_background": "light"
     },
     "output_type": "display_data"
    }
   ],
   "source": [
    "def plot_importance(model, features, num=len(X), save=False):\n",
    "    feature_imp = pd.DataFrame({'Value': model.feature_importances_, 'Feature': features.columns})\n",
    "    plt.figure(figsize=(10, 10))\n",
    "    sns.set(font_scale=1)\n",
    "    sns.barplot(x=\"Value\", y=\"Feature\", data=feature_imp.sort_values(by=\"Value\",\n",
    "                                                                     ascending=False)[0:num])\n",
    "    plt.title('Features')\n",
    "    plt.tight_layout()\n",
    "    plt.show()\n",
    "    if save:\n",
    "        plt.savefig('importances.png')\n",
    "\n",
    "plot_importance(rf_final, X)"
   ]
  },
  {
   "cell_type": "code",
   "execution_count": 6,
   "id": "ce2a9f75",
   "metadata": {
    "execution": {
     "iopub.execute_input": "2023-10-15T19:59:04.547736Z",
     "iopub.status.busy": "2023-10-15T19:59:04.546609Z",
     "iopub.status.idle": "2023-10-15T19:59:04.557342Z",
     "shell.execute_reply": "2023-10-15T19:59:04.555693Z"
    },
    "papermill": {
     "duration": 0.023378,
     "end_time": "2023-10-15T19:59:04.561095",
     "exception": false,
     "start_time": "2023-10-15T19:59:04.537717",
     "status": "completed"
    },
    "tags": []
   },
   "outputs": [],
   "source": [
    "def val_curve_params(model, X, y, param_name, param_range, scoring=\"roc_auc\", cv=10):\n",
    "    train_score, test_score = validation_curve(\n",
    "        model, X=X, y=y, param_name=param_name, param_range=param_range, scoring=scoring, cv=cv)\n",
    "\n",
    "    mean_train_score = np.mean(train_score, axis=1)\n",
    "    mean_test_score = np.mean(test_score, axis=1)\n",
    "\n",
    "    plt.plot(param_range, mean_train_score,\n",
    "             label=\"Training Score\", color='b')\n",
    "\n",
    "    plt.plot(param_range, mean_test_score,\n",
    "             label=\"Validation Score\", color='g')\n",
    "\n",
    "    plt.title(f\"Validation Curve for {type(model).__name__}\")\n",
    "    plt.xlabel(f\"Number of {param_name}\")\n",
    "    plt.ylabel(f\"{scoring}\")\n",
    "    plt.tight_layout()\n",
    "    plt.legend(loc='best')\n",
    "    plt.show(block=True)"
   ]
  },
  {
   "cell_type": "code",
   "execution_count": 7,
   "id": "81cfb590",
   "metadata": {
    "execution": {
     "iopub.execute_input": "2023-10-15T19:59:04.577451Z",
     "iopub.status.busy": "2023-10-15T19:59:04.577026Z",
     "iopub.status.idle": "2023-10-15T20:01:08.308950Z",
     "shell.execute_reply": "2023-10-15T20:01:08.307387Z"
    },
    "papermill": {
     "duration": 123.751124,
     "end_time": "2023-10-15T20:01:08.319838",
     "exception": false,
     "start_time": "2023-10-15T19:59:04.568714",
     "status": "completed"
    },
    "tags": []
   },
   "outputs": [
    {
     "data": {
      "image/png": "[encoded data removed]",
      "text/plain": [
       "<Figure size 432x288 with 1 Axes>"
      ]
     },
     "metadata": {},
     "output_type": "display_data"
    }
   ],
   "source": [
    "val_curve_params(rf_final, X, y, \"max_depth\", range(1, 11), scoring=\"roc_auc\")"
   ]
  },
  {
   "cell_type": "markdown",
   "id": "18bc728c",
   "metadata": {
    "papermill": {
     "duration": 0.00756,
     "end_time": "2023-10-15T20:01:08.338608",
     "exception": false,
     "start_time": "2023-10-15T20:01:08.331048",
     "status": "completed"
    },
    "tags": []
   },
   "source": [
    "# GBM"
   ]
  },
  {
   "cell_type": "code",
   "execution_count": 8,
   "id": "3b6fc436",
   "metadata": {
    "execution": {
     "iopub.execute_input": "2023-10-15T20:01:08.357730Z",
     "iopub.status.busy": "2023-10-15T20:01:08.357320Z",
     "iopub.status.idle": "2023-10-15T20:01:09.300179Z",
     "shell.execute_reply": "2023-10-15T20:01:09.298435Z"
    },
    "papermill": {
     "duration": 0.955067,
     "end_time": "2023-10-15T20:01:09.302979",
     "exception": false,
     "start_time": "2023-10-15T20:01:08.347912",
     "status": "completed"
    },
    "tags": []
   },
   "outputs": [],
   "source": [
    "gbm_model = GradientBoostingClassifier(random_state=17)\n",
    "\n",
    "gbm_model.get_params()\n",
    "\n",
    "cv_results = cross_validate(gbm_model, X, y, cv=5, scoring=[\"accuracy\", \"f1\", \"roc_auc\"])\n",
    "cv_results['test_accuracy'].mean()\n",
    "# 0.7591715474068416\n",
    "cv_results['test_f1'].mean()\n",
    "# 0.634\n",
    "cv_results['test_roc_auc'].mean()\n",
    "# 0.82548\n",
    "gbm_params = {\"learning_rate\": [0.01, 0.1],\n",
    "              \"max_depth\": [3, 8, 10],\n",
    "              \"n_estimators\": [100, 500, 1000],\n",
    "              \"subsample\": [1, 0.5, 0.7]}\n"
   ]
  },
  {
   "cell_type": "code",
   "execution_count": 9,
   "id": "f26dedbd",
   "metadata": {
    "execution": {
     "iopub.execute_input": "2023-10-15T20:01:09.321357Z",
     "iopub.status.busy": "2023-10-15T20:01:09.320859Z",
     "iopub.status.idle": "2023-10-15T20:04:49.614780Z",
     "shell.execute_reply": "2023-10-15T20:04:49.613628Z"
    },
    "papermill": {
     "duration": 220.315115,
     "end_time": "2023-10-15T20:04:49.625663",
     "exception": false,
     "start_time": "2023-10-15T20:01:09.310548",
     "status": "completed"
    },
    "tags": []
   },
   "outputs": [
    {
     "name": "stdout",
     "output_type": "stream",
     "text": [
      "Fitting 5 folds for each of 54 candidates, totalling 270 fits\n"
     ]
    },
    {
     "data": {
      "text/plain": [
       "0.8241788958770091"
      ]
     },
     "execution_count": 9,
     "metadata": {},
     "output_type": "execute_result"
    }
   ],
   "source": [
    "gbm_best_grid = GridSearchCV(gbm_model, gbm_params, cv=5, n_jobs=-1, verbose=True).fit(X, y)\n",
    "\n",
    "gbm_best_grid.best_params_\n",
    "\n",
    "gbm_final = gbm_model.set_params(**gbm_best_grid.best_params_, random_state=17, ).fit(X, y)\n",
    "\n",
    "\n",
    "cv_results = cross_validate(gbm_final, X, y, cv=5, scoring=[\"accuracy\", \"f1\", \"roc_auc\"])\n",
    "cv_results['test_accuracy'].mean()\n",
    "cv_results['test_f1'].mean()\n",
    "cv_results['test_roc_auc'].mean()"
   ]
  },
  {
   "cell_type": "markdown",
   "id": "57a40732",
   "metadata": {
    "papermill": {
     "duration": 0.007241,
     "end_time": "2023-10-15T20:04:49.641000",
     "exception": false,
     "start_time": "2023-10-15T20:04:49.633759",
     "status": "completed"
    },
    "tags": []
   },
   "source": [
    "# XGBoost"
   ]
  },
  {
   "cell_type": "code",
   "execution_count": 10,
   "id": "5094f9b1",
   "metadata": {
    "execution": {
     "iopub.execute_input": "2023-10-15T20:04:49.659921Z",
     "iopub.status.busy": "2023-10-15T20:04:49.659261Z",
     "iopub.status.idle": "2023-10-15T20:04:51.349176Z",
     "shell.execute_reply": "2023-10-15T20:04:51.347947Z"
    },
    "papermill": {
     "duration": 1.703438,
     "end_time": "2023-10-15T20:04:51.351816",
     "exception": false,
     "start_time": "2023-10-15T20:04:49.648378",
     "status": "completed"
    },
    "tags": []
   },
   "outputs": [
    {
     "data": {
      "text/plain": [
       "0.7987134870719776"
      ]
     },
     "execution_count": 10,
     "metadata": {},
     "output_type": "execute_result"
    }
   ],
   "source": [
    "xgboost_model = XGBClassifier(random_state=17, use_label_encoder=False)\n",
    "xgboost_model.get_params()\n",
    "cv_results = cross_validate(xgboost_model, X, y, cv=5, scoring=[\"accuracy\", \"f1\", \"roc_auc\"])\n",
    "cv_results['test_accuracy'].mean()\n",
    "# 0.75265\n",
    "cv_results['test_f1'].mean()\n",
    "# 0.631\n",
    "cv_results['test_roc_auc'].mean()\n",
    "# 0.7987"
   ]
  },
  {
   "cell_type": "code",
   "execution_count": 11,
   "id": "a61f7d36",
   "metadata": {
    "execution": {
     "iopub.execute_input": "2023-10-15T20:04:51.370369Z",
     "iopub.status.busy": "2023-10-15T20:04:51.369945Z",
     "iopub.status.idle": "2023-10-15T20:06:10.991433Z",
     "shell.execute_reply": "2023-10-15T20:06:10.989575Z"
    },
    "papermill": {
     "duration": 79.633842,
     "end_time": "2023-10-15T20:06:10.994737",
     "exception": false,
     "start_time": "2023-10-15T20:04:51.360895",
     "status": "completed"
    },
    "tags": []
   },
   "outputs": [
    {
     "name": "stdout",
     "output_type": "stream",
     "text": [
      "Fitting 5 folds for each of 24 candidates, totalling 120 fits\n"
     ]
    },
    {
     "data": {
      "text/plain": [
       "0.8193780573025856"
      ]
     },
     "execution_count": 11,
     "metadata": {},
     "output_type": "execute_result"
    }
   ],
   "source": [
    "xgboost_params = {\"learning_rate\": [0.1, 0.01],\n",
    "                  \"max_depth\": [5, 8],\n",
    "                  \"n_estimators\": [100, 500, 1000],\n",
    "                  \"colsample_bytree\": [0.7, 1]}\n",
    "\n",
    "xgboost_best_grid = GridSearchCV(xgboost_model, xgboost_params, cv=5, n_jobs=-1, verbose=True).fit(X, y)\n",
    "\n",
    "xgboost_final = xgboost_model.set_params(**xgboost_best_grid.best_params_, random_state=17).fit(X, y)\n",
    "\n",
    "cv_results = cross_validate(xgboost_final, X, y, cv=5, scoring=[\"accuracy\", \"f1\", \"roc_auc\"])\n",
    "cv_results['test_accuracy'].mean()\n",
    "cv_results['test_f1'].mean()\n",
    "cv_results['test_roc_auc'].mean()"
   ]
  },
  {
   "cell_type": "markdown",
   "id": "72d927f1",
   "metadata": {
    "papermill": {
     "duration": 0.007787,
     "end_time": "2023-10-15T20:06:11.010335",
     "exception": false,
     "start_time": "2023-10-15T20:06:11.002548",
     "status": "completed"
    },
    "tags": []
   },
   "source": [
    "# LightGBM"
   ]
  },
  {
   "cell_type": "code",
   "execution_count": 12,
   "id": "b899cd79",
   "metadata": {
    "execution": {
     "iopub.execute_input": "2023-10-15T20:06:11.028430Z",
     "iopub.status.busy": "2023-10-15T20:06:11.028054Z",
     "iopub.status.idle": "2023-10-15T20:06:11.479328Z",
     "shell.execute_reply": "2023-10-15T20:06:11.478396Z"
    },
    "papermill": {
     "duration": 0.463359,
     "end_time": "2023-10-15T20:06:11.481821",
     "exception": false,
     "start_time": "2023-10-15T20:06:11.018462",
     "status": "completed"
    },
    "tags": []
   },
   "outputs": [
    {
     "data": {
      "text/plain": [
       "0.7990293501048218"
      ]
     },
     "execution_count": 12,
     "metadata": {},
     "output_type": "execute_result"
    }
   ],
   "source": [
    "lgbm_model = LGBMClassifier(random_state=17)\n",
    "lgbm_model.get_params()\n",
    "\n",
    "cv_results = cross_validate(lgbm_model, X, y, cv=5, scoring=[\"accuracy\", \"f1\", \"roc_auc\"])\n",
    "\n",
    "cv_results['test_accuracy'].mean()\n",
    "cv_results['test_f1'].mean()\n",
    "cv_results['test_roc_auc'].mean()"
   ]
  },
  {
   "cell_type": "code",
   "execution_count": 13,
   "id": "462ef102",
   "metadata": {
    "execution": {
     "iopub.execute_input": "2023-10-15T20:06:11.500890Z",
     "iopub.status.busy": "2023-10-15T20:06:11.500493Z",
     "iopub.status.idle": "2023-10-15T20:06:29.550947Z",
     "shell.execute_reply": "2023-10-15T20:06:29.549955Z"
    },
    "papermill": {
     "duration": 18.062675,
     "end_time": "2023-10-15T20:06:29.554053",
     "exception": false,
     "start_time": "2023-10-15T20:06:11.491378",
     "status": "completed"
    },
    "tags": []
   },
   "outputs": [
    {
     "name": "stdout",
     "output_type": "stream",
     "text": [
      "Fitting 5 folds for each of 24 candidates, totalling 120 fits\n"
     ]
    },
    {
     "data": {
      "text/plain": [
       "0.8147491264849755"
      ]
     },
     "execution_count": 13,
     "metadata": {},
     "output_type": "execute_result"
    }
   ],
   "source": [
    "lgbm_params = {\"learning_rate\": [0.01, 0.1],\n",
    "               \"n_estimators\": [100, 300, 500, 1000],\n",
    "               \"colsample_bytree\": [0.5, 0.7, 1]}\n",
    "\n",
    "lgbm_best_grid = GridSearchCV(lgbm_model, lgbm_params, cv=5, n_jobs=-1, verbose=True).fit(X, y)\n",
    "\n",
    "lgbm_final = lgbm_model.set_params(**lgbm_best_grid.best_params_, random_state=17).fit(X, y)\n",
    "\n",
    "cv_results = cross_validate(lgbm_final, X, y, cv=5, scoring=[\"accuracy\", \"f1\", \"roc_auc\"])\n",
    "\n",
    "cv_results['test_accuracy'].mean()\n",
    "cv_results['test_f1'].mean()\n",
    "cv_results['test_roc_auc'].mean()\n"
   ]
  },
  {
   "cell_type": "markdown",
   "id": "a132594c",
   "metadata": {
    "papermill": {
     "duration": 0.007509,
     "end_time": "2023-10-15T20:06:29.571262",
     "exception": false,
     "start_time": "2023-10-15T20:06:29.563753",
     "status": "completed"
    },
    "tags": []
   },
   "source": [
    "### Hiperparametre yeni değerlerle"
   ]
  },
  {
   "cell_type": "code",
   "execution_count": 14,
   "id": "f0645d4f",
   "metadata": {
    "execution": {
     "iopub.execute_input": "2023-10-15T20:06:29.588526Z",
     "iopub.status.busy": "2023-10-15T20:06:29.588143Z",
     "iopub.status.idle": "2023-10-15T20:06:51.738568Z",
     "shell.execute_reply": "2023-10-15T20:06:51.737591Z"
    },
    "papermill": {
     "duration": 22.162125,
     "end_time": "2023-10-15T20:06:51.741153",
     "exception": false,
     "start_time": "2023-10-15T20:06:29.579028",
     "status": "completed"
    },
    "tags": []
   },
   "outputs": [
    {
     "name": "stdout",
     "output_type": "stream",
     "text": [
      "Fitting 5 folds for each of 48 candidates, totalling 240 fits\n"
     ]
    },
    {
     "data": {
      "text/plain": [
       "0.8227931516422082"
      ]
     },
     "execution_count": 14,
     "metadata": {},
     "output_type": "execute_result"
    }
   ],
   "source": [
    "lgbm_params = {\"learning_rate\": [0.01, 0.02, 0.05, 0.1],\n",
    "               \"n_estimators\": [200, 300, 350, 400],\n",
    "               \"colsample_bytree\": [0.9, 0.8, 1]}\n",
    "\n",
    "lgbm_best_grid = GridSearchCV(lgbm_model, lgbm_params, cv=5, n_jobs=-1, verbose=True).fit(X, y)\n",
    "\n",
    "lgbm_final = lgbm_model.set_params(**lgbm_best_grid.best_params_, random_state=17).fit(X, y)\n",
    "\n",
    "cv_results = cross_validate(lgbm_final, X, y, cv=5, scoring=[\"accuracy\", \"f1\", \"roc_auc\"])\n",
    "\n",
    "cv_results['test_accuracy'].mean()\n",
    "cv_results['test_f1'].mean()\n",
    "cv_results['test_roc_auc'].mean()"
   ]
  },
  {
   "cell_type": "markdown",
   "id": "3b936735",
   "metadata": {
    "papermill": {
     "duration": 0.008607,
     "end_time": "2023-10-15T20:06:51.759410",
     "exception": false,
     "start_time": "2023-10-15T20:06:51.750803",
     "status": "completed"
    },
    "tags": []
   },
   "source": [
    "### Hiperparametre optimizasyonu sadece n_estimators için."
   ]
  },
  {
   "cell_type": "code",
   "execution_count": 15,
   "id": "92af8bca",
   "metadata": {
    "execution": {
     "iopub.execute_input": "2023-10-15T20:06:51.779686Z",
     "iopub.status.busy": "2023-10-15T20:06:51.779263Z",
     "iopub.status.idle": "2023-10-15T20:07:39.152348Z",
     "shell.execute_reply": "2023-10-15T20:07:39.150197Z"
    },
    "papermill": {
     "duration": 47.388967,
     "end_time": "2023-10-15T20:07:39.157362",
     "exception": false,
     "start_time": "2023-10-15T20:06:51.768395",
     "status": "completed"
    },
    "tags": []
   },
   "outputs": [
    {
     "name": "stdout",
     "output_type": "stream",
     "text": [
      "Fitting 5 folds for each of 7 candidates, totalling 35 fits\n"
     ]
    },
    {
     "data": {
      "text/plain": [
       "0.8227931516422082"
      ]
     },
     "execution_count": 15,
     "metadata": {},
     "output_type": "execute_result"
    }
   ],
   "source": [
    "lgbm_model = LGBMClassifier(random_state=17, colsample_bytree=0.9, learning_rate=0.01)\n",
    "\n",
    "lgbm_params = {\"n_estimators\": [200, 400, 1000, 5000, 8000, 9000, 10000]}\n",
    "\n",
    "lgbm_best_grid = GridSearchCV(lgbm_model, lgbm_params, cv=5, n_jobs=-1, verbose=True).fit(X, y)\n",
    "\n",
    "lgbm_final = lgbm_model.set_params(**lgbm_best_grid.best_params_, random_state=17).fit(X, y)\n",
    "\n",
    "cv_results = cross_validate(lgbm_final, X, y, cv=5, scoring=[\"accuracy\", \"f1\", \"roc_auc\"])\n",
    "\n",
    "cv_results['test_accuracy'].mean()\n",
    "cv_results['test_f1'].mean()\n",
    "cv_results['test_roc_auc'].mean()\n"
   ]
  },
  {
   "cell_type": "markdown",
   "id": "61d341c9",
   "metadata": {
    "papermill": {
     "duration": 0.008342,
     "end_time": "2023-10-15T20:07:39.174147",
     "exception": false,
     "start_time": "2023-10-15T20:07:39.165805",
     "status": "completed"
    },
    "tags": []
   },
   "source": [
    "# CatBoost"
   ]
  },
  {
   "cell_type": "code",
   "execution_count": 16,
   "id": "37fcd38d",
   "metadata": {
    "execution": {
     "iopub.execute_input": "2023-10-15T20:07:39.193297Z",
     "iopub.status.busy": "2023-10-15T20:07:39.192277Z",
     "iopub.status.idle": "2023-10-15T20:07:39.202611Z",
     "shell.execute_reply": "2023-10-15T20:07:39.201549Z"
    },
    "papermill": {
     "duration": 0.023348,
     "end_time": "2023-10-15T20:07:39.205980",
     "exception": false,
     "start_time": "2023-10-15T20:07:39.182632",
     "status": "completed"
    },
    "tags": []
   },
   "outputs": [],
   "source": [
    "cat_but_num=[col for col in df.columns if (df[col].dtypes in [\"float\",\"int\"])  and (df[col].nunique()<10) ]\n",
    "num=[col for col in df.columns if (df[col].dtypes  in [\"float\",\"int\"])]\n",
    "cat=[col for col in df.columns if df[col].dtypes in [\"Category\",\"boolean\"]] "
   ]
  },
  {
   "cell_type": "code",
   "execution_count": 17,
   "id": "51d8821b",
   "metadata": {
    "execution": {
     "iopub.execute_input": "2023-10-15T20:07:39.226996Z",
     "iopub.status.busy": "2023-10-15T20:07:39.226056Z",
     "iopub.status.idle": "2023-10-15T20:07:46.907704Z",
     "shell.execute_reply": "2023-10-15T20:07:46.906001Z"
    },
    "papermill": {
     "duration": 7.694569,
     "end_time": "2023-10-15T20:07:46.910370",
     "exception": false,
     "start_time": "2023-10-15T20:07:39.215801",
     "status": "completed"
    },
    "tags": []
   },
   "outputs": [
    {
     "data": {
      "text/plain": [
       "0.8378923829489867"
      ]
     },
     "execution_count": 17,
     "metadata": {},
     "output_type": "execute_result"
    }
   ],
   "source": [
    "catboost_model = CatBoostClassifier(random_state=17, verbose=False)\n",
    "\n",
    "cv_results = cross_validate(catboost_model, X, y, cv=5, scoring=[\"accuracy\", \"f1\", \"roc_auc\"])\n",
    "\n",
    "cv_results['test_accuracy'].mean()\n",
    "cv_results['test_f1'].mean()\n",
    "cv_results['test_roc_auc'].mean()\n"
   ]
  },
  {
   "cell_type": "code",
   "execution_count": 18,
   "id": "e29dbe59",
   "metadata": {
    "execution": {
     "iopub.execute_input": "2023-10-15T20:07:46.930519Z",
     "iopub.status.busy": "2023-10-15T20:07:46.929281Z",
     "iopub.status.idle": "2023-10-15T20:08:05.804383Z",
     "shell.execute_reply": "2023-10-15T20:08:05.803131Z"
    },
    "papermill": {
     "duration": 18.888021,
     "end_time": "2023-10-15T20:08:05.806971",
     "exception": false,
     "start_time": "2023-10-15T20:07:46.918950",
     "status": "completed"
    },
    "tags": []
   },
   "outputs": [
    {
     "name": "stdout",
     "output_type": "stream",
     "text": [
      "Fitting 5 folds for each of 8 candidates, totalling 40 fits\n"
     ]
    }
   ],
   "source": [
    "catboost_params = {\"iterations\": [200, 500],\n",
    "                   \"learning_rate\": [0.01, 0.1],\n",
    "                   \"depth\": [3, 6]}\n",
    "\n",
    "\n",
    "catboost_best_grid = GridSearchCV(catboost_model, catboost_params, cv=5, n_jobs=-1, verbose=True).fit(X, y)\n",
    "\n",
    "catboost_final = catboost_model.set_params(**catboost_best_grid.best_params_, random_state=17).fit(X, y)\n"
   ]
  },
  {
   "cell_type": "code",
   "execution_count": 19,
   "id": "9bcd1631",
   "metadata": {
    "execution": {
     "iopub.execute_input": "2023-10-15T20:08:05.826101Z",
     "iopub.status.busy": "2023-10-15T20:08:05.825431Z",
     "iopub.status.idle": "2023-10-15T20:08:08.089150Z",
     "shell.execute_reply": "2023-10-15T20:08:08.088036Z"
    },
    "papermill": {
     "duration": 2.276656,
     "end_time": "2023-10-15T20:08:08.092478",
     "exception": false,
     "start_time": "2023-10-15T20:08:05.815822",
     "status": "completed"
    },
    "tags": []
   },
   "outputs": [
    {
     "data": {
      "text/plain": [
       "0.842001397624039"
      ]
     },
     "execution_count": 19,
     "metadata": {},
     "output_type": "execute_result"
    }
   ],
   "source": [
    "cv_results = cross_validate(catboost_final, X, y, cv=5, scoring=[\"accuracy\", \"f1\", \"roc_auc\"])\n",
    "\n",
    "cv_results['test_accuracy'].mean()\n",
    "cv_results['test_f1'].mean()\n",
    "cv_results['test_roc_auc'].mean()"
   ]
  },
  {
   "cell_type": "markdown",
   "id": "53975d6f",
   "metadata": {
    "papermill": {
     "duration": 0.008771,
     "end_time": "2023-10-15T20:08:08.110643",
     "exception": false,
     "start_time": "2023-10-15T20:08:08.101872",
     "status": "completed"
    },
    "tags": []
   },
   "source": [
    "# Feature Importance"
   ]
  },
  {
   "cell_type": "code",
   "execution_count": 20,
   "id": "84b1a1ba",
   "metadata": {
    "execution": {
     "iopub.execute_input": "2023-10-15T20:08:08.131861Z",
     "iopub.status.busy": "2023-10-15T20:08:08.131171Z",
     "iopub.status.idle": "2023-10-15T20:08:10.026155Z",
     "shell.execute_reply": "2023-10-15T20:08:10.024728Z"
    },
    "papermill": {
     "duration": 1.908426,
     "end_time": "2023-10-15T20:08:10.028565",
     "exception": false,
     "start_time": "2023-10-15T20:08:08.120139",
     "status": "completed"
    },
    "tags": []
   },
   "outputs": [
    {
     "data": {
      "image/png": "[encoded data removed]",
      "text/plain": [
       "<Figure size 720x720 with 1 Axes>"
      ]
     },
     "metadata": {},
     "output_type": "display_data"
    },
    {
     "data": {
      "image/png": "[encoded data removed]",
      "text/plain": [
       "<Figure size 720x720 with 1 Axes>"
      ]
     },
     "metadata": {},
     "output_type": "display_data"
    },
    {
     "data": {
      "image/png": "[encoded data removed]",
      "text/plain": [
       "<Figure size 720x720 with 1 Axes>"
      ]
     },
     "metadata": {},
     "output_type": "display_data"
    },
    {
     "data": {
      "image/png": "[encoded data removed]",
      "text/plain": [
       "<Figure size 720x720 with 1 Axes>"
      ]
     },
     "metadata": {},
     "output_type": "display_data"
    },
    {
     "data": {
      "image/png": "[encoded data removed]",
      "text/plain": [
       "<Figure size 720x720 with 1 Axes>"
      ]
     },
     "metadata": {},
     "output_type": "display_data"
    }
   ],
   "source": [
    "def plot_importance(model, features, num=len(X), save=False):\n",
    "    feature_imp = pd.DataFrame({'Value': model.feature_importances_, 'Feature': features.columns})\n",
    "    plt.figure(figsize=(10, 10))\n",
    "    sns.set(font_scale=1)\n",
    "    sns.barplot(x=\"Value\", y=\"Feature\", data=feature_imp.sort_values(by=\"Value\",\n",
    "                                                                     ascending=False)[0:num])\n",
    "    plt.title('Features')\n",
    "    plt.tight_layout()\n",
    "    plt.show()\n",
    "    if save:\n",
    "        plt.savefig('importances.png')\n",
    "\n",
    "plot_importance(rf_final, X)\n",
    "plot_importance(gbm_final, X)\n",
    "plot_importance(xgboost_final, X)\n",
    "plot_importance(lgbm_final, X)\n",
    "plot_importance(catboost_final, X)\n"
   ]
  },
  {
   "cell_type": "code",
   "execution_count": null,
   "id": "ae0efb3a",
   "metadata": {
    "papermill": {
     "duration": 0.010898,
     "end_time": "2023-10-15T20:08:10.050740",
     "exception": false,
     "start_time": "2023-10-15T20:08:10.039842",
     "status": "completed"
    },
    "tags": []
   },
   "outputs": [],
   "source": []
  }
 ],
 "metadata": {
  "kernelspec": {
   "display_name": "Python 3",
   "language": "python",
   "name": "python3"
  },
  "language_info": {
   "codemirror_mode": {
    "name": "ipython",
    "version": 3
   },
   "file_extension": ".py",
   "mimetype": "text/x-python",
   "name": "python",
   "nbconvert_exporter": "python",
   "pygments_lexer": "ipython3",
   "version": "3.7.12"
  },
  "papermill": {
   "default_parameters": {},
   "duration": 816.820098,
   "end_time": "2023-10-15T20:08:12.685690",
   "environment_variables": {},
   "exception": null,
   "input_path": "__notebook__.ipynb",
   "output_path": "__notebook__.ipynb",
   "parameters": {},
   "start_time": "2023-10-15T19:54:35.865592",
   "version": "2.3.4"
  }
 },
 "nbformat": 4,
 "nbformat_minor": 5
}
